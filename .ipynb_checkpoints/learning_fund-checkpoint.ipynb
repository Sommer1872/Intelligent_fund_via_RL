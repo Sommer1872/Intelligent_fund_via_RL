{
 "cells": [
  {
   "cell_type": "markdown",
   "metadata": {},
   "source": [
    "Imagine the whole reinforcement mechanism only as the demand function of the LearningFund."
   ]
  },
  {
   "cell_type": "code",
   "execution_count": 7,
   "metadata": {
    "collapsed": true
   },
   "outputs": [],
   "source": [
    "%matplotlib inline\n",
    "\n",
    "import sys, os\n",
    "\n",
    "import numpy as np\n",
    "\n",
    "import scipy\n",
    "from scipy import optimize\n",
    "import itertools\n",
    "\n",
    "import matplotlib.pyplot as plt\n",
    "import seaborn as sns\n",
    "sns.set_style(\"whitegrid\")\n",
    "current_palette = sns.color_palette()"
   ]
  },
  {
   "cell_type": "code",
   "execution_count": 8,
   "metadata": {
    "collapsed": true
   },
   "outputs": [],
   "source": [
    "from thurner_model import NoiseTrader, Fund, DynamicFund, find_equilibrium \n",
    "import plotting"
   ]
  },
  {
   "cell_type": "markdown",
   "metadata": {},
   "source": [
    "Here, I model the fund as a learning agent, which is able to adjust its demand function over time"
   ]
  },
  {
   "cell_type": "code",
   "execution_count": 9,
   "metadata": {
    "collapsed": true
   },
   "outputs": [],
   "source": [
    "class LearningFund(Fund):\n",
    "    \"\"\"\n",
    "    Description: Base Class is Fund, defined in thurner_model.py\n",
    "    The Learning Fund learns its demand function via reinforcement learning\n",
    "    \"\"\"\n",
    "    \n",
    "    def __init__(self):\n",
    "        # The learning fund does not need a beta\n",
    "        self.cash = self.initial_wealth\n",
    "        self.shares = 0 \n",
    "        self.activation_delay = 0\n",
    "    \n",
    "    def get_demand(self, p_t): # this needs to be a function of p_t for the market clearing to work\n",
    "        \"\"\"\n",
    "        oh look, a docstring\n",
    "        \"\"\" \n",
    "        \n",
    "        return policy_estimator.predict(state)"
   ]
  },
  {
   "cell_type": "code",
   "execution_count": 12,
   "metadata": {
    "collapsed": true
   },
   "outputs": [],
   "source": [
    "class Env:\n",
    "    \"\"\"\n",
    "    Docstring\n",
    "    \"\"\"\n",
    "    # Define our fundamental value V and asset-supply N\n",
    "    V = 1.\n",
    "    N = 1000.\n",
    "    \n",
    "    initial_price = 1.\n",
    "    \n",
    "    # Define noise trader (uses the NoiseTrader Class defined in thurner_model.py)\n",
    "    roh_nt = 0.99\n",
    "    sigma_nt = 0.035\n",
    "    noise_trader = NoiseTrader(roh_nt, sigma_nt, V, N)\n",
    "    initial_nt_spending = V*N\n",
    "    \n",
    "    def __init__(self):\n",
    "        # tracks trader spending\n",
    "        \n",
    "        self.p_t = self.initial_price\n",
    "        self.xi_t = self.initial_nt_spending\n",
    "        self.done = False \n",
    "        \n",
    "    # when resetting the environment, we set the state back to the initial one \n",
    "    def reset(self):\n",
    "        self.p_t = self.initial_price\n",
    "        self.xi_t = self.initial_nt_spending\n",
    "\n",
    "    def step(self, funds):\n",
    "        \"\"\"Finds equilibrium, and updates environment parameters\"\"\" \n",
    "        # track the old price for the investor mechanism\n",
    "        p_tm1 = self.p_t\n",
    "        \n",
    "        # 1. Find the new price for the timestep\n",
    "        self.xi_t = self.noise_trader.cash_spending(self.xi_t)\n",
    "        self.p_t = find_equilibrium(self.xi_t, funds)\n",
    "    \n",
    "        # 2. update the holdings of all the funds (wealth, shares and cash)\n",
    "        current_wealth = []\n",
    "        \n",
    "        for fund in funds:\n",
    "            fund.update_holdings(self.p_t)\n",
    "            fund.check_and_make_bankrupt(self.p_t)\n",
    "            \n",
    "            fund.process_inflows(p_tm1, self.p_t)\n",
    "            \n",
    "            new_wealth_of_fund = fund.get_wealth(self.p_t)\n",
    "            current_wealth.append(new_wealth_of_fund)\n",
    "            \n",
    "            # set done to True if one fund increases its wealth 50-fold\n",
    "            if new_wealth_of_fund > 50*fund.initial_wealth:\n",
    "                self.done = True\n",
    "                \n",
    "        return current_wealth"
   ]
  },
  {
   "cell_type": "code",
   "execution_count": 14,
   "metadata": {},
   "outputs": [
    {
     "name": "stdout",
     "output_type": "stream",
     "text": [
      "False\n",
      "False\n",
      "False\n",
      "False\n",
      "False\n",
      "False\n",
      "False\n",
      "False\n",
      "False\n",
      "False\n",
      "False\n",
      "False\n",
      "False\n",
      "False\n",
      "False\n",
      "False\n",
      "False\n"
     ]
    }
   ],
   "source": [
    "prices = []\n",
    "funds_wealth = []\n",
    "\n",
    "# Create the environment\n",
    "\n",
    "\n",
    "number_of_funds = 10\n",
    "funds = [Fund((i+1)*5) for i in range(number_of_funds)]\n",
    "\n",
    "# add a LearningFund\n",
    "#funds.append(LearningFund())\n",
    "\n",
    "# set initial situation\n",
    "env = Env()\n",
    "env.reset()\n",
    "for t in itertools.count():\n",
    "    #take a step in the environment\n",
    "    current_wealth = env.step(funds)\n",
    "    \n",
    "    # record the current price and wealth of all funds\n",
    "    prices.append(env.p_t)\n",
    "    funds_wealth.append(current_wealth)\n",
    "    if t%1000 == 0:\n",
    "        print(env.done)\n",
    "    \n",
    "    if env.done:\n",
    "        break"
   ]
  },
  {
   "cell_type": "code",
   "execution_count": 15,
   "metadata": {},
   "outputs": [
    {
     "data": {
      "text/plain": [
       "[5, 10, 15, 20, 25, 30, 35, 40, 45, 50]"
      ]
     },
     "execution_count": 15,
     "metadata": {},
     "output_type": "execute_result"
    }
   ],
   "source": [
    "[f.beta for f in funds]"
   ]
  },
  {
   "cell_type": "code",
   "execution_count": 16,
   "metadata": {},
   "outputs": [
    {
     "data": {
      "image/png": "[encoded data removed]",
      "text/plain": [
       "<matplotlib.figure.Figure at 0x11ee5dba8>"
      ]
     },
     "metadata": {},
     "output_type": "display_data"
    }
   ],
   "source": [
    "plt.figure(figsize=(10,4))\n",
    "plt.plot(funds_wealth);"
   ]
  },
  {
   "cell_type": "code",
   "execution_count": 13,
   "metadata": {},
   "outputs": [
    {
     "data": {
      "text/plain": [
       "array([1, 2, 2, 0, 0])"
      ]
     },
     "execution_count": 13,
     "metadata": {},
     "output_type": "execute_result"
    }
   ],
   "source": [
    "for i_episode in range(num_episodes):\n",
    "    state = initial_state\n",
    "    episode = []\n",
    "    # One step in the environment\n",
    "        for t in itertools.count():\n",
    "            demand = "
   ]
  },
  {
   "cell_type": "code",
   "execution_count": null,
   "metadata": {
    "collapsed": true
   },
   "outputs": [],
   "source": [
    "class PolicyEstimator():\n",
    "    \"\"\"\n",
    "    Policy Function approximator. Also called Actor.\n",
    "    \"\"\"\n",
    "    \n",
    "    def __init__(self, learning_rate=0.01, scope=\"policy_estimator\"):\n",
    "        with tf.variable_scope(scope):\n",
    "            self.state = tf.placeholder(tf.float32, [400], \"state\")\n",
    "            self.target = tf.placeholder(dtype=tf.float32, name=\"target\")\n",
    "\n",
    "            # This is just linear classifier\n",
    "            self.mu = tf.contrib.layers.fully_connected(\n",
    "                inputs=tf.expand_dims(self.state, 0),\n",
    "                num_outputs=1,\n",
    "                activation_fn=None,\n",
    "                weights_initializer=tf.zeros_initializer)\n",
    "            self.mu = tf.squeeze(self.mu)\n",
    "            \n",
    "            self.sigma = tf.contrib.layers.fully_connected(\n",
    "                inputs=tf.expand_dims(self.state, 0),\n",
    "                num_outputs=1,\n",
    "                activation_fn=None,\n",
    "                weights_initializer=tf.zeros_initializer)\n",
    "            \n",
    "            self.sigma = tf.squeeze(self.sigma)\n",
    "            self.sigma = tf.nn.softplus(self.sigma) + 1e-5\n",
    "            self.normal_dist = tf.contrib.distributions.Normal(self.mu,\n",
    "                                                               self.sigma)\n",
    "            self.demand = self.normal_dist._sample_n(1)\n",
    "            self.demand = tf.clip_by_value(self.demand,\n",
    "                                           env.demand_space.low[0],\n",
    "                                           env.demand_space.high[0])\n",
    "\n",
    "            # Loss and train op\n",
    "            self.loss = -self.normal_dist.log_prob(self.demand) * self.target\n",
    "            # Add cross entropy cost to encourage exploration\n",
    "            self.loss -= 1e-1 * self.normal_dist.entropy()\n",
    "            \n",
    "            self.optimizer = tf.train.AdamOptimizer(learning_rate=learning_rate)\n",
    "            self.train_op = self.optimizer.minimize(\n",
    "                self.loss, global_step=tf.contrib.framework.get_global_step())\n",
    "    \n",
    "    def predict(self, state, sess=None):\n",
    "        sess = sess or tf.get_default_session()\n",
    "        state = featurize_state(state)\n",
    "        return sess.run(self.demand, { self.state: state })\n",
    "\n",
    "    def update(self, state, target, demand, sess=None):\n",
    "        sess = sess or tf.get_default_session()\n",
    "        state = featurize_state(state)\n",
    "        feed_dict = { self.state: state,\n",
    "                      self.target: target,\n",
    "                      self.demand: demand  }\n",
    "        _, loss = sess.run([self.train_op, self.loss], feed_dict)\n",
    "        return loss"
   ]
  },
  {
   "cell_type": "code",
   "execution_count": null,
   "metadata": {
    "collapsed": true
   },
   "outputs": [],
   "source": [
    "class ValueEstimator():\n",
    "    \"\"\"\n",
    "    Value Function approximator. Also called Critic.\n",
    "    \"\"\"\n",
    "    \n",
    "    def __init__(self, learning_rate=0.1, scope=\"value_estimator\"):\n",
    "        with tf.variable_scope(scope):\n",
    "            self.state = tf.placeholder(tf.float32, [400], \"state\")\n",
    "            self.target = tf.placeholder(dtype=tf.float32, name=\"target\")\n",
    "\n",
    "            # This is just a linear classifier\n",
    "            self.output_layer = tf.contrib.layers.fully_connected(\n",
    "                inputs=tf.expand_dims(self.state, 0),\n",
    "                num_outputs=1,\n",
    "                activation_fn=None,\n",
    "                weights_initializer=tf.zeros_initializer)\n",
    "\n",
    "            self.value_estimate = tf.squeeze(self.output_layer)\n",
    "            self.loss = tf.squared_difference(self.value_estimate, self.target)\n",
    "\n",
    "            self.optimizer = tf.train.AdamOptimizer(learning_rate=learning_rate)\n",
    "            self.train_op = self.optimizer.minimize(\n",
    "                self.loss, global_step=tf.contrib.framework.get_global_step())        \n",
    "    \n",
    "    def predict(self, state, sess=None):\n",
    "        sess = sess or tf.get_default_session()\n",
    "        state = featurize_state(state)\n",
    "        return sess.run(self.value_estimate, { self.state: state })\n",
    "\n",
    "    def update(self, state, target, sess=None):\n",
    "        sess = sess or tf.get_default_session()\n",
    "        state = featurize_state(state)\n",
    "        feed_dict = { self.state: state, self.target: target }\n",
    "        _, loss = sess.run([self.train_op, self.loss], feed_dict)\n",
    "        return loss"
   ]
  },
  {
   "cell_type": "code",
   "execution_count": null,
   "metadata": {
    "collapsed": true
   },
   "outputs": [],
   "source": [
    "def actor_critic(env, policy_estimator, value_estimator, num_episodes,\n",
    "                 discount_factor=1.0):\n",
    "    \"\"\"\n",
    "    Actor Critic Algorithm. Optimizes the policy \n",
    "    function approximator using policy gradient.\n",
    "    \n",
    "    Args:\n",
    "        env: OpenAI environment.\n",
    "        policy_estimator: Policy Function to be optimized \n",
    "        value_estimator: Value function approximator, used as a critic\n",
    "        num_episodes: Number of episodes to run for\n",
    "        discount_factor: Time-discount factor\n",
    "    \n",
    "    Returns:\n",
    "        An EpisodeStats object with two numpy arrays for episode_lengths and\n",
    "        episode_rewards.\n",
    "    \"\"\"\n",
    "\n",
    "    # Keeps track of useful statistics\n",
    "    stats = plotting.EpisodeStats(\n",
    "        episode_lengths=np.zeros(num_episodes),\n",
    "        episode_rewards=np.zeros(num_episodes))    \n",
    "    \n",
    "    Transition = collections.namedtuple(\"Transition\", [\"state\", \"action\",\n",
    "                                                       \"reward\", \"next_state\",\n",
    "                                                       \"done\"])\n",
    "    \n",
    "    for i_episode in range(num_episodes):\n",
    "        # Reset the environment and pick the first action\n",
    "        # this is our initial state\n",
    "        state = initial_state\n",
    "        \n",
    "        episode = []\n",
    "        \n",
    "        # One step in the environment\n",
    "        for t in itertools.count():\n",
    "            \n",
    "            # get the demand function of the learning fund\n",
    "            demand = policy_estimator.predict(state)\n",
    "            \n",
    "            # Simulate a step in the environment\n",
    "            current_wealth = env.step(funds)\n",
    "            \n",
    "            # we assume one learning fund\n",
    "            next_state = ...\n",
    "            reward = ...\n",
    "            \n",
    "            # Keep track of the transition\n",
    "            episode.append(Transition(\n",
    "              state=state, action=action, reward=reward, next_state=next_state, done=done))\n",
    "            \n",
    "            # Update statistics\n",
    "            stats.episode_rewards[i_episode] += reward\n",
    "            stats.episode_lengths[i_episode] = t\n",
    "            \n",
    "            # Calculate TD Target\n",
    "            value_next = value_estimator.predict(next_state)\n",
    "            td_target = reward + discount_factor * value_next\n",
    "            td_error = td_target - value_estimator.predict(state)\n",
    "            \n",
    "            # Update the value estimator\n",
    "            value_estimator.update(state, td_target)\n",
    "            \n",
    "            # Update the policy estimator\n",
    "            # using the td error as our advantage estimate\n",
    "            policy_estimator.update(state, td_error, action)\n",
    "            \n",
    "            # Print out which step we're on, useful for debugging.\n",
    "            print(\"\\rStep {} @ Episode {}/{} ({})\".format(\n",
    "                    t, i_episode + 1, num_episodes,\n",
    "                    stats.episode_rewards[i_episode - 1]), end=\"\")\n",
    "            \n",
    "            # env.done is True if one fund increases its wealth 50-fold\n",
    "            if env.done:\n",
    "                break\n",
    "                \n",
    "            state = next_state\n",
    "    \n",
    "    return stats"
   ]
  },
  {
   "cell_type": "code",
   "execution_count": null,
   "metadata": {
    "collapsed": true
   },
   "outputs": [],
   "source": [
    "# This works\n",
    "tf.reset_default_graph()\n",
    "\n",
    "global_step = tf.train.get_global_step()\n",
    "policy_estimator = PolicyEstimator(learning_rate=0.001)\n",
    "value_estimator = ValueEstimator(learning_rate=0.1)\n",
    "\n",
    "with tf.Session() as sess:\n",
    "    sess.run(tf.global_variables_initializer())\n",
    "    # Due to randomness in the policy, the number of episodes you need varies\n",
    "    # TODO: Sometimes the algorithm gets stuck, I'm not sure what exactly is\n",
    "    # happening there.\n",
    "    stats = actor_critic(env, policy_estimator, value_estimator,\n",
    "                         num_episodes=50, discount_factor=0.95)"
   ]
  }
 ],
 "metadata": {
  "kernelspec": {
   "display_name": "Python [conda root]",
   "language": "python",
   "name": "conda-root-py"
  },
  "language_info": {
   "codemirror_mode": {
    "name": "ipython",
    "version": 3
   },
   "file_extension": ".py",
   "mimetype": "text/x-python",
   "name": "python",
   "nbconvert_exporter": "python",
   "pygments_lexer": "ipython3",
   "version": "3.5.0rc4"
  }
 },
 "nbformat": 4,
 "nbformat_minor": 2
}
