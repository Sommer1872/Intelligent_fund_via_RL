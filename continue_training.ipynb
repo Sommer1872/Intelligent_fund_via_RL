{
 "cells": [
  {
   "cell_type": "code",
   "execution_count": 1,
   "metadata": {},
   "outputs": [
    {
     "name": "stderr",
     "output_type": "stream",
     "text": [
      "/home/ubuntu/anaconda3/envs/tensorflow_p36/lib/python3.6/site-packages/matplotlib/__init__.py:962: UserWarning: Duplicate key in file \"/home/ubuntu/.config/matplotlib/matplotlibrc\", line #2\n",
      "  (fname, cnt))\n",
      "/home/ubuntu/anaconda3/envs/tensorflow_p36/lib/python3.6/site-packages/matplotlib/__init__.py:962: UserWarning: Duplicate key in file \"/home/ubuntu/.config/matplotlib/matplotlibrc\", line #3\n",
      "  (fname, cnt))\n",
      "/home/ubuntu/anaconda3/envs/tensorflow_p36/lib/python3.6/site-packages/matplotlib/font_manager.py:281: UserWarning: Matplotlib is building the font cache using fc-list. This may take a moment.\n",
      "  'Matplotlib is building the font cache using fc-list. '\n",
      "/home/ubuntu/anaconda3/envs/tensorflow_p36/lib/python3.6/importlib/_bootstrap.py:219: RuntimeWarning: compiletime version 3.5 of module 'tensorflow.python.framework.fast_tensor_util' does not match runtime version 3.6\n",
      "  return f(*args, **kwds)\n",
      "/home/ubuntu/anaconda3/envs/tensorflow_p36/lib/python3.6/site-packages/h5py/__init__.py:36: FutureWarning: Conversion of the second argument of issubdtype from `float` to `np.floating` is deprecated. In future, it will be treated as `np.float64 == np.dtype(float).type`.\n",
      "  from ._conv import register_converters as _register_converters\n"
     ]
    }
   ],
   "source": [
    "%matplotlib inline\n",
    "\n",
    "import sys, os\n",
    "import itertools\n",
    "import collections\n",
    "\n",
    "import tensorflow as tf\n",
    "import numpy as np\n",
    "\n",
    "import sklearn.pipeline\n",
    "import sklearn.preprocessing\n",
    "from sklearn.kernel_approximation import RBFSampler\n",
    "import scipy\n",
    "from scipy import optimize\n",
    "\n",
    "import time\n",
    "import datetime\n",
    "\n",
    "import matplotlib.pyplot as plt\n",
    "#import seaborn as sns\n",
    "#sns.set_style(\"whitegrid\")\n",
    "#current_palette = sns.color_palette()"
   ]
  },
  {
   "cell_type": "code",
   "execution_count": 2,
   "metadata": {
    "collapsed": true
   },
   "outputs": [],
   "source": [
    "# checking device\n",
    "sess = tf.Session(config=tf.ConfigProto(log_device_placement=True))"
   ]
  },
  {
   "cell_type": "code",
   "execution_count": 3,
   "metadata": {
    "collapsed": true
   },
   "outputs": [],
   "source": [
    "from thurner_model import NoiseTrader, Fund, DynamicFund, find_equilibrium \n",
    "import plotting"
   ]
  },
  {
   "cell_type": "markdown",
   "metadata": {},
   "source": [
    "## Load model from checkpoint "
   ]
  },
  {
   "cell_type": "code",
   "execution_count": 42,
   "metadata": {},
   "outputs": [
    {
     "data": {
      "text/plain": [
       "model_checkpoint_path: \"./checkpoints/5000ts_10ep-ep14\"\n",
       "all_model_checkpoint_paths: \"./checkpoints/5000ts_10ep-ep10\"\n",
       "all_model_checkpoint_paths: \"./checkpoints/5000ts_10ep-ep11\"\n",
       "all_model_checkpoint_paths: \"./checkpoints/5000ts_10ep-ep12\"\n",
       "all_model_checkpoint_paths: \"./checkpoints/5000ts_10ep-ep13\"\n",
       "all_model_checkpoint_paths: \"./checkpoints/5000ts_10ep-ep14\""
      ]
     },
     "execution_count": 42,
     "metadata": {},
     "output_type": "execute_result"
    }
   ],
   "source": [
    "# look at saved checkpoints\n",
    "#tf.train.get_checkpoint_state(\"./checkpoints/\")"
   ]
  },
  {
   "cell_type": "code",
   "execution_count": 45,
   "metadata": {},
   "outputs": [
    {
     "name": "stdout",
     "output_type": "stream",
     "text": [
      "INFO:tensorflow:Restoring parameters from ./checkpoints/5000ts_10ep-ep10\n",
      "t: 50 @ Episode 1/5 (0.0)\n",
      "Model saved in path: ./checkpoints/5000ts_10ep-ep0\n",
      "\n",
      "t: 50 @ Episode 2/5 (0.046511776745319366)\n",
      "Model saved in path: ./checkpoints/5000ts_10ep-ep1\n",
      "\n",
      "t: 50 @ Episode 3/5 (0.04702062904834747)\n",
      "Model saved in path: ./checkpoints/5000ts_10ep-ep2\n",
      "\n",
      "t: 50 @ Episode 4/5 (0.0028090067207813263)\n",
      "Model saved in path: ./checkpoints/5000ts_10ep-ep3\n",
      "\n",
      "t: 50 @ Episode 5/5 (0.06456007808446884)\n",
      "Model saved in path: ./checkpoints/5000ts_10ep-ep4\n",
      "\n",
      "\n",
      "Duration: 0.13374995390574138 min\n"
     ]
    }
   ],
   "source": [
    "## specify which checkpoint to load\n",
    "#experiment_name = \"5000ts_10ep\"\n",
    "#i_episode = 10\n",
    "#\n",
    "#start_time = time.time()\n",
    "#\n",
    "## Create the environment\n",
    "#env = Env()\n",
    "#\n",
    "## first initialization of our learning fund\n",
    "#learning_fund = LearningFund()\n",
    "#\n",
    "#saver = tf.train.Saver(max_to_keep=1)\n",
    "#\n",
    "#checkpoint = \"./checkpoints/{}-ep{}\".format(experiment_name,i_episode)\n",
    "#\n",
    "#experiment_name += \"_continued\"\n",
    "#\n",
    "#with tf.Session() as sess:\n",
    "#    \n",
    "#    saver.restore(sess, checkpoint)\n",
    "#\n",
    "#    stats_continued, funds_wealth_all_episodes_continued = actor_critic(env, policy_estimator, value_estimator,\n",
    "#                                                                      num_episodes=5, discount_factor=0.95)\n",
    "#    \n",
    "#print(\"\\nDuration: {} min\".format((time.time() - start_time)/60))"
   ]
  },
  {
   "cell_type": "code",
   "execution_count": 44,
   "metadata": {},
   "outputs": [
    {
     "data": {
      "text/plain": [
       "5"
      ]
     },
     "execution_count": 44,
     "metadata": {},
     "output_type": "execute_result"
    }
   ],
   "source": [
    "#len(funds_wealth_all_episodes)"
   ]
  }
 ],
 "metadata": {
  "kernelspec": {
   "display_name": "Python [conda env:py36]",
   "language": "python",
   "name": "conda-env-py36-py"
  },
  "language_info": {
   "codemirror_mode": {
    "name": "ipython",
    "version": 3
   },
   "file_extension": ".py",
   "mimetype": "text/x-python",
   "name": "python",
   "nbconvert_exporter": "python",
   "pygments_lexer": "ipython3",
   "version": "3.6.1"
  }
 },
 "nbformat": 4,
 "nbformat_minor": 2
}
