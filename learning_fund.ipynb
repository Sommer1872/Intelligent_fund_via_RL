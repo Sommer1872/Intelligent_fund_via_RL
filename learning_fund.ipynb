{
 "cells": [
  {
   "cell_type": "code",
   "execution_count": 1,
   "metadata": {
    "collapsed": true
   },
   "outputs": [],
   "source": [
    "import sys, os\n",
    "\n",
    "import numpy as np\n",
    "\n",
    "import scipy\n",
    "from scipy import optimize\n",
    "\n",
    "\n",
    "import matplotlib.pyplot as plt\n",
    "%matplotlib inline\n",
    "import seaborn as sns\n",
    "sns.set_style(\"whitegrid\")\n",
    "current_palette = sns.color_palette()"
   ]
  },
  {
   "cell_type": "code",
   "execution_count": 106,
   "metadata": {
    "collapsed": true
   },
   "outputs": [],
   "source": [
    "from thurner_model import NoiseTrader, Fund, find_equilibrium \n",
    "import plotting"
   ]
  },
  {
   "cell_type": "markdown",
   "metadata": {},
   "source": [
    "Here, I model the fund as a learning agent, which is able to adjust its demand function over time"
   ]
  },
  {
   "cell_type": "code",
   "execution_count": 174,
   "metadata": {
    "collapsed": true
   },
   "outputs": [],
   "source": [
    "class LearningFund(Fund):\n",
    "    \"\"\"\n",
    "    Description: Base Class is Fund, defined in thurner_model.py\n",
    "    The Learning Fund learns its demand function via reinforcement learning\n",
    "    \"\"\"\n",
    "    \n",
    "    def __init__(self):\n",
    "        # The learning fund does not need a beta\n",
    "        self.cash = self.initial_wealth\n",
    "        self.shares = 0 \n",
    "        self.activation_delay = 0\n",
    "    \n",
    "    def get_demand(self, p_t): # this needs to be a function of p_t for the market clearing to work\n",
    "        \"\"\"\n",
    "        Oh look, a docstring\n",
    "        \"\"\" \n",
    "        # the mispricing signal m_t is the difference\n",
    "        # between the fundamental value V and the price p_t\n",
    "        m_t = V - p_t\n",
    "        m_critical = self.lambda_max / self.beta        \n",
    "        \n",
    "        # if the mispricing signal m_t is positive and \n",
    "        # m_critical is not reached, yet\n",
    "        if 0 < m_t and m_t < m_critical:\n",
    "            return self.beta * m_t * self.get_wealth(p_t) / p_t \n",
    "        # if m_critical is reached, fund leverages \n",
    "        # to the maximum \n",
    "        elif m_t >= m_critical:\n",
    "            return self.lambda_max * self.get_wealth(p_t) / p_t\n",
    "\n",
    "        # if m_t < 0, ie the mispricing signal, is negative,\n",
    "        # demand is zero\n",
    "        else:\n",
    "            return 0"
   ]
  },
  {
   "cell_type": "code",
   "execution_count": 176,
   "metadata": {
    "collapsed": true
   },
   "outputs": [],
   "source": [
    "class Env:\n",
    "    \"\"\"\n",
    "    Docstring\n",
    "    \"\"\"\n",
    "    # Define our fundamental value V and asset-supply N\n",
    "    V = 1.\n",
    "    N = 1000.\n",
    "    \n",
    "    initial_price = 1.\n",
    "    \n",
    "    # Define noise trader (uses the NoiseTrader Class defined in thurner_model.py)\n",
    "    roh_nt = 0.99\n",
    "    sigma_nt = 0.035\n",
    "    noise_trader = NoiseTrader(roh_nt, sigma_nt, V, N)\n",
    "    initial_nt_spending = V*N\n",
    "    \n",
    "    def __init__(self):\n",
    "        # tracks trader spending, this is not observed by the fund\n",
    "        # therefore it is not in the environment's state\n",
    "        \n",
    "        self.p_t = self.initial_price\n",
    "        self.xi_t = self.initial_nt_spending\n",
    "        \n",
    "        \n",
    "    # when resetting the environment, we set its state back to the initial state\n",
    "    def reset(self):\n",
    "        self.p_t = self.initial_price\n",
    "        self.xi_t = self.initial_nt_spending\n",
    "\n",
    "    def step(self, funds):\n",
    "        \"\"\"Finds equilibrium, and updates environment parameters\"\"\" \n",
    "        \n",
    "        # 1. Find the new price for the timestep\n",
    "        self.xi_t = self.noise_trader.cash_spending(self.xi_t)\n",
    "\n",
    "        self.p_t = find_equilibrium(self.xi_t, funds)\n",
    "    \n",
    "        # 2. update the holdings of all the funds (wealth, shares and cash)\n",
    "        current_wealth = []\n",
    "        for fund in funds:\n",
    "            fund.update_holdings(self.p_t)\n",
    "            fund.check_and_make_bankrupt(self.p_t)\n",
    "            #fund.processInflows(oldprice, newprice)\n",
    "            current_wealth.append(fund.get_wealth(self.p_t))\n",
    "        \n",
    "        return current_wealth"
   ]
  },
  {
   "cell_type": "code",
   "execution_count": 177,
   "metadata": {},
   "outputs": [
    {
     "data": {
      "text/plain": [
       "[5, 10, 15, 20, 25, 30, 35, 40, 45, 50]"
      ]
     },
     "execution_count": 177,
     "metadata": {},
     "output_type": "execute_result"
    }
   ],
   "source": [
    "[f.beta for f in funds]"
   ]
  },
  {
   "cell_type": "code",
   "execution_count": 191,
   "metadata": {},
   "outputs": [
    {
     "name": "stdout",
     "output_type": "stream",
     "text": [
      "Start: \tPrice: 1.0\tSpending: 1000.0\n"
     ]
    }
   ],
   "source": [
    "prices = []\n",
    "funds_wealth = []\n",
    "\n",
    "# Create the environment\n",
    "\n",
    "\n",
    "number_of_funds = 10\n",
    "funds = [Fund((i+1)*5) for i in range(number_of_funds)]\n",
    "\n",
    "# set initial situation\n",
    "env = Env()\n",
    "env.reset()\n",
    "print(\"Start: \\tPrice: {}\\tSpending: {}\".format(env.p_t, env.xi_t))\n",
    "\n",
    "for i in range(10000):\n",
    "    #take a step in the environment\n",
    "    current_wealth = env.step(funds)\n",
    "    \n",
    "    # record the current price and wealth of all funds\n",
    "    prices.append(env.p_t)\n",
    "    funds_wealth.append(current_wealth)\n",
    "    "
   ]
  },
  {
   "cell_type": "code",
   "execution_count": 192,
   "metadata": {},
   "outputs": [
    {
     "data": {
      "text/plain": [
       "[<matplotlib.lines.Line2D at 0x122302908>,\n",
       " <matplotlib.lines.Line2D at 0x122302b38>,\n",
       " <matplotlib.lines.Line2D at 0x122302dd8>,\n",
       " <matplotlib.lines.Line2D at 0x122305048>,\n",
       " <matplotlib.lines.Line2D at 0x122305278>,\n",
       " <matplotlib.lines.Line2D at 0x1223054a8>,\n",
       " <matplotlib.lines.Line2D at 0x1223056d8>,\n",
       " <matplotlib.lines.Line2D at 0x122305908>,\n",
       " <matplotlib.lines.Line2D at 0x122305b38>,\n",
       " <matplotlib.lines.Line2D at 0x122305d68>]"
      ]
     },
     "execution_count": 192,
     "metadata": {},
     "output_type": "execute_result"
    },
    {
     "data": {
      "image/png": "[encoded data removed]",
      "text/plain": [
       "<matplotlib.figure.Figure at 0x120c5b198>"
      ]
     },
     "metadata": {},
     "output_type": "display_data"
    }
   ],
   "source": [
    "plt.plot(funds_wealth);"
   ]
  },
  {
   "cell_type": "code",
   "execution_count": 13,
   "metadata": {},
   "outputs": [
    {
     "data": {
      "text/plain": [
       "array([1, 2, 2, 0, 0])"
      ]
     },
     "execution_count": 13,
     "metadata": {},
     "output_type": "execute_result"
    }
   ],
   "source": [
    "\n",
    "for i_episode in range(num_episodes):\n",
    "    state = initial_state\n",
    "    episode = []\n",
    "    # One step in the environment\n",
    "        for t in itertools.count():\n",
    "            demand = "
   ]
  },
  {
   "cell_type": "markdown",
   "metadata": {},
   "source": [
    "# From Denny Britz"
   ]
  },
  {
   "cell_type": "code",
   "execution_count": null,
   "metadata": {
    "collapsed": true
   },
   "outputs": [],
   "source": [
    "class PolicyEstimator():\n",
    "    \"\"\"\n",
    "    Policy Function approximator. \n",
    "    \"\"\"\n",
    "    \n",
    "    def __init__(self, learning_rate=0.01, scope=\"policy_estimator\"):\n",
    "        with tf.variable_scope(scope):\n",
    "            self.state = tf.placeholder(tf.float32, [400], \"state\")\n",
    "            self.target = tf.placeholder(dtype=tf.float32, name=\"target\")\n",
    "\n",
    "            # This is just linear classifier\n",
    "            self.mu = tf.contrib.layers.fully_connected(\n",
    "                inputs=tf.expand_dims(self.state, 0),\n",
    "                num_outputs=1,\n",
    "                activation_fn=None,\n",
    "                weights_initializer=tf.zeros_initializer)\n",
    "            self.mu = tf.squeeze(self.mu)\n",
    "            \n",
    "            self.sigma = tf.contrib.layers.fully_connected(\n",
    "                inputs=tf.expand_dims(self.state, 0),\n",
    "                num_outputs=1,\n",
    "                activation_fn=None,\n",
    "                weights_initializer=tf.zeros_initializer)\n",
    "            \n",
    "            self.sigma = tf.squeeze(self.sigma)\n",
    "            self.sigma = tf.nn.softplus(self.sigma) + 1e-5\n",
    "            self.normal_dist = tf.contrib.distributions.Normal(self.mu, self.sigma)\n",
    "            self.action = self.normal_dist._sample_n(1)\n",
    "            self.action = tf.clip_by_value(self.action, env.action_space.low[0], env.action_space.high[0])\n",
    "\n",
    "            # Loss and train op\n",
    "            self.loss = -self.normal_dist.log_prob(self.action) * self.target\n",
    "            # Add cross entropy cost to encourage exploration\n",
    "            self.loss -= 1e-1 * self.normal_dist.entropy()\n",
    "            \n",
    "            self.optimizer = tf.train.AdamOptimizer(learning_rate=learning_rate)\n",
    "            self.train_op = self.optimizer.minimize(\n",
    "                self.loss, global_step=tf.contrib.framework.get_global_step())\n",
    "    \n",
    "    def predict(self, state, sess=None):\n",
    "        sess = sess or tf.get_default_session()\n",
    "        state = featurize_state(state)\n",
    "        return sess.run(self.action, { self.state: state })\n",
    "\n",
    "    def update(self, state, target, action, sess=None):\n",
    "        sess = sess or tf.get_default_session()\n",
    "        state = featurize_state(state)\n",
    "        feed_dict = { self.state: state, self.target: target, self.action: action  }\n",
    "        _, loss = sess.run([self.train_op, self.loss], feed_dict)\n",
    "        return loss"
   ]
  },
  {
   "cell_type": "code",
   "execution_count": null,
   "metadata": {
    "collapsed": true
   },
   "outputs": [],
   "source": [
    "class ValueEstimator():\n",
    "    \"\"\"\n",
    "    Value Function approximator. \n",
    "    \"\"\"\n",
    "    \n",
    "    def __init__(self, learning_rate=0.1, scope=\"value_estimator\"):\n",
    "        with tf.variable_scope(scope):\n",
    "            self.state = tf.placeholder(tf.float32, [400], \"state\")\n",
    "            self.target = tf.placeholder(dtype=tf.float32, name=\"target\")\n",
    "\n",
    "            # This is just linear classifier\n",
    "            self.output_layer = tf.contrib.layers.fully_connected(\n",
    "                inputs=tf.expand_dims(self.state, 0),\n",
    "                num_outputs=1,\n",
    "                activation_fn=None,\n",
    "                weights_initializer=tf.zeros_initializer)\n",
    "\n",
    "            self.value_estimate = tf.squeeze(self.output_layer)\n",
    "            self.loss = tf.squared_difference(self.value_estimate, self.target)\n",
    "\n",
    "            self.optimizer = tf.train.AdamOptimizer(learning_rate=learning_rate)\n",
    "            self.train_op = self.optimizer.minimize(\n",
    "                self.loss, global_step=tf.contrib.framework.get_global_step())        \n",
    "    \n",
    "    def predict(self, state, sess=None):\n",
    "        sess = sess or tf.get_default_session()\n",
    "        state = featurize_state(state)\n",
    "        return sess.run(self.value_estimate, { self.state: state })\n",
    "\n",
    "    def update(self, state, target, sess=None):\n",
    "        sess = sess or tf.get_default_session()\n",
    "        state = featurize_state(state)\n",
    "        feed_dict = { self.state: state, self.target: target }\n",
    "        _, loss = sess.run([self.train_op, self.loss], feed_dict)\n",
    "        return loss"
   ]
  },
  {
   "cell_type": "code",
   "execution_count": null,
   "metadata": {
    "collapsed": true
   },
   "outputs": [],
   "source": [
    "def actor_critic(env, estimator_policy, estimator_value, num_episodes, discount_factor=1.0):\n",
    "    \"\"\"\n",
    "    Actor Critic Algorithm. Optimizes the policy \n",
    "    function approximator using policy gradient.\n",
    "    \n",
    "    Args:\n",
    "        env: OpenAI environment.\n",
    "        estimator_policy: Policy Function to be optimized \n",
    "        estimator_value: Value function approximator, used as a critic\n",
    "        num_episodes: Number of episodes to run for\n",
    "        discount_factor: Time-discount factor\n",
    "    \n",
    "    Returns:\n",
    "        An EpisodeStats object with two numpy arrays for episode_lengths and episode_rewards.\n",
    "    \"\"\"\n",
    "\n",
    "    initial_price = 1\n",
    "    initial_fund_wealth = 2\n",
    "    initial_cash = initial_wealth\n",
    "    initial_shares = 0 \n",
    "    initial_activation_delay = 0 \n",
    "    \n",
    "    initial_state = np.array([initial_price, initial_fund_wealth, initial_cash, initial_shares, initial_activation_delay])\n",
    "    \n",
    "    # Keeps track of useful statistics\n",
    "    stats = plotting.EpisodeStats(\n",
    "        episode_lengths=np.zeros(num_episodes),\n",
    "        episode_rewards=np.zeros(num_episodes))    \n",
    "    \n",
    "    Transition = collections.namedtuple(\"Transition\", [\"state\", \"action\", \"reward\", \"next_state\", \"done\"])\n",
    "    \n",
    "    for i_episode in range(num_episodes):\n",
    "        # Reset the environment and pick the fisrst action\n",
    "        # this is our initial state\n",
    "        state = initial_state\n",
    "        \n",
    "        episode = []\n",
    "        \n",
    "        # One step in the environment\n",
    "        for t in itertools.count():\n",
    "            \n",
    "            # env.render()\n",
    "            \n",
    "            # Take a step\n",
    "            demand = estimator_policy.predict(state)\n",
    "            next_state, reward, done, _ = env.step(action)\n",
    "            \n",
    "            # Keep track of the transition\n",
    "            episode.append(Transition(\n",
    "              state=state, action=action, reward=reward, next_state=next_state, done=done))\n",
    "            \n",
    "            # Update statistics\n",
    "            stats.episode_rewards[i_episode] += reward\n",
    "            stats.episode_lengths[i_episode] = t\n",
    "            \n",
    "            # Calculate TD Target\n",
    "            value_next = estimator_value.predict(next_state)\n",
    "            td_target = reward + discount_factor * value_next\n",
    "            td_error = td_target - estimator_value.predict(state)\n",
    "            \n",
    "            # Update the value estimator\n",
    "            estimator_value.update(state, td_target)\n",
    "            \n",
    "            # Update the policy estimator\n",
    "            # using the td error as our advantage estimate\n",
    "            estimator_policy.update(state, td_error, action)\n",
    "            \n",
    "            # Print out which step we're on, useful for debugging.\n",
    "            print(\"\\rStep {} @ Episode {}/{} ({})\".format(\n",
    "                    t, i_episode + 1, num_episodes, stats.episode_rewards[i_episode - 1]), end=\"\")\n",
    "\n",
    "            if done:\n",
    "                break\n",
    "                \n",
    "            state = next_state\n",
    "    \n",
    "    return stats"
   ]
  },
  {
   "cell_type": "code",
   "execution_count": null,
   "metadata": {
    "collapsed": true
   },
   "outputs": [],
   "source": [
    "# This works\n",
    "tf.reset_default_graph()\n",
    "\n",
    "global_step = tf.train.get_global_step()\n",
    "policy_estimator = PolicyEstimator(learning_rate=0.001)\n",
    "value_estimator = ValueEstimator(learning_rate=0.1)\n",
    "\n",
    "with tf.Session() as sess:\n",
    "    sess.run(tf.global_variables_initializer())\n",
    "    # Note, due to randomness in the policy the number of episodes you need varies\n",
    "    # TODO: Sometimes the algorithm gets stuck, I'm not sure what exactly is happening there.\n",
    "    stats = actor_critic(env, policy_estimator, value_estimator, 50, discount_factor=0.95)"
   ]
  }
 ],
 "metadata": {
  "kernelspec": {
   "display_name": "Python [conda root]",
   "language": "python",
   "name": "conda-root-py"
  },
  "language_info": {
   "codemirror_mode": {
    "name": "ipython",
    "version": 3
   },
   "file_extension": ".py",
   "mimetype": "text/x-python",
   "name": "python",
   "nbconvert_exporter": "python",
   "pygments_lexer": "ipython3",
   "version": "3.5.0rc4"
  }
 },
 "nbformat": 4,
 "nbformat_minor": 2
}
