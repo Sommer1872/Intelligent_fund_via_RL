{
 "cells": [
  {
   "cell_type": "code",
   "execution_count": 3,
   "metadata": {
    "collapsed": true
   },
   "outputs": [],
   "source": [
    "import sys, os\n",
    "\n",
    "import numpy as np"
   ]
  },
  {
   "cell_type": "markdown",
   "metadata": {},
   "source": [
    "Here, I model the fund as a learning agent, which is able to adjust its demand function over time"
   ]
  },
  {
   "cell_type": "code",
   "execution_count": 2,
   "metadata": {},
   "outputs": [
    {
     "ename": "ImportError",
     "evalue": "No module named 'thurner_model'",
     "output_type": "error",
     "traceback": [
      "\u001b[0;31m---------------------------------------------------------------------------\u001b[0m",
      "\u001b[0;31mImportError\u001b[0m                               Traceback (most recent call last)",
      "\u001b[0;32m<ipython-input-2-c70246090dd5>\u001b[0m in \u001b[0;36m<module>\u001b[0;34m()\u001b[0m\n\u001b[0;32m----> 1\u001b[0;31m \u001b[0;32mfrom\u001b[0m \u001b[0mthurner_model\u001b[0m \u001b[0;32mimport\u001b[0m \u001b[0mNoiseTrader\u001b[0m\u001b[0;34m,\u001b[0m \u001b[0mfind_equilibrium\u001b[0m\u001b[0;34m\u001b[0m\u001b[0m\n\u001b[0m",
      "\u001b[0;31mImportError\u001b[0m: No module named 'thurner_model'"
     ]
    }
   ],
   "source": [
    "from thurner_model import NoiseTrader, find_equilibrium "
   ]
  },
  {
   "cell_type": "code",
   "execution_count": null,
   "metadata": {
    "collapsed": true
   },
   "outputs": [],
   "source": [
    "class LearningFund:\n",
    "    \"\"\"\n",
    "    The funds in our model are value investors who base \n",
    "    their demand D_h_t on a mispricing signal m_t = V - p_t.\n",
    "    The perceived fundamental value V is held constant and \n",
    "    is the same for the noise traders and for all funds\n",
    "    \n",
    "    Funds differ only according to an aggression parameter \n",
    "    beta_h that represents how sensitive their response is \n",
    "    to the signal m.\n",
    "    \"\"\"\n",
    "    \n",
    "    initial_wealth = 2\n",
    "    lambda_max = 20\n",
    "    \n",
    "    def __init__(self, beta):\n",
    "        self.beta = beta\n",
    "        self.cash = self.initial_wealth\n",
    "        self.shares = 0 \n",
    "        self.activation_delay = 0\n",
    "        \n",
    "    def check_and_make_bankrupt(self, p_t):\n",
    "        \"\"\"\n",
    "        Checks whether a fund goes bankrupt\n",
    "        If so, reset its shares and wealth, set an\n",
    "        activation_delay, after which the fund reinitiates\n",
    "        (if the fund is already bankrupt,\n",
    "        the activation_delay is decreased)\n",
    "        \"\"\"\n",
    "        # can only go bankrupt if active\n",
    "        if self.is_active():\n",
    "            # if wealth drops below 10% of initial_wealth\n",
    "            if self.get_wealth(p_t) <= self.initial_wealth*0.1:\n",
    "                # \"make\" fund bankrupt\n",
    "                self.shares = 0\n",
    "                self.cash = self.initial_wealth\n",
    "                self.activation_delay = 100\n",
    "                return True\n",
    "            \n",
    "            # if fund in not bankrupt, return False\n",
    "            else: return False\n",
    "\n",
    "        # if fund is already bankrupt, reduce activation_delay\n",
    "        else:\n",
    "            self.activation_delay -= 1\n",
    "            return False\n",
    "\n",
    "    def get_wealth(self, p_t):\n",
    "        \"\"\"\n",
    "        TODO\n",
    "        \"\"\"\n",
    "        return max(0, self.shares * p_t + self.cash)\n",
    "\n",
    "    #!!! for learning behaviour see LeBaron2012 !!!\n",
    "\n",
    "    def get_demand(self, p_t):\n",
    "        \"\"\"\n",
    "        Oh look, a docstring\n",
    "        \"\"\" \n",
    "        # the mispricing signal m_t is the difference\n",
    "        # between the fundamental value V and the price p_t\n",
    "        m_t = V - p_t\n",
    "        m_critical = self.lambda_max / self.beta        \n",
    "        \n",
    "        # if the mispricing signal m_t is positive and \n",
    "        # m_critical is not reached, yet\n",
    "        if 0 < m_t and m_t < m_critical:\n",
    "            return self.beta * m_t * self.get_wealth(p_t) / p_t \n",
    "        # if m_critical is reached, fund leverages \n",
    "        # to the maximum \n",
    "        elif m_t >= m_critical:\n",
    "            return self.lambda_max * self.get_wealth(p_t) / p_t\n",
    "\n",
    "        # if m_t < 0, ie the mispricing signal, is negative,\n",
    "        # demand is zero\n",
    "        else:\n",
    "            return 0\n",
    "\n",
    "    def is_active(self):\n",
    "        return self.activation_delay == 0\n",
    "\n",
    "    def process_inflows(self, oldprice, newprice):\n",
    "        pass #used later\n",
    "\n",
    "    def update_fund_holdings(self, p_t):\n",
    "        wealth = self.get_wealth(p_t)\n",
    "        self.shares = self.get_demand(p_t)\n",
    "        self.cash = wealth - self.shares * p_t"
   ]
  },
  {
   "cell_type": "code",
   "execution_count": null,
   "metadata": {
    "collapsed": true
   },
   "outputs": [],
   "source": [
    "# 1. Initialize Agents\n",
    "\n",
    "def simulate(iterations):\n",
    "    # the perceived fundamental value is V\n",
    "    V = 1\n",
    "    # the total supply of the asset is N\n",
    "    N = 1000\n",
    "\n",
    "    # 1. Initialize agents and parameters\n",
    "\n",
    "    # Initialize our noise trader \n",
    "    roh_nt = 0.99\n",
    "    sigma_nt = 0.035\n",
    "    noise_trader = NoiseTrader(roh_nt, sigma_nt, V, N)\n",
    "    \n",
    "    nt_spending = [N*V]\n",
    "    \n",
    "    # Initialize our funds \n",
    "    funds = []\n",
    "    number_of_funds = 5 \n",
    "    \n",
    "    for h in range(number_of_funds):\n",
    "        # betas range from 5 to 50 (5,10,15,...,50)\n",
    "        beta_h = (h+1)*5\n",
    "        funds.append(Fund(beta_h))\n",
    "    \n",
    "    # 2. SIMULATION\n",
    "    \n",
    "    initial_price = 1\n",
    "    prices = [initial_price]\n",
    "    total_fund_wealth = []\n",
    "    \n",
    "    printProgressBar(0, iterations,\n",
    "                    prefix='Progress', length=50) \n",
    "    \n",
    "    for i in range(iterations):\n",
    "    \n",
    "        p_tm1 = prices[-1]\n",
    "        # Noise trader spending \n",
    "        xi_tm1 = nt_spending[-1]\n",
    "        xi_t = noise_trader.cash_spending(xi_tm1)\n",
    "        nt_spending.append(xi_t)\n",
    "    \n",
    "        p_t = find_equilibrium(xi_t, funds)\n",
    "    \n",
    "        # Fund demand\n",
    "        funds_wealth_t = [] \n",
    "    \n",
    "        for fund in funds:\n",
    "            fund.update_fund_holdings(p_t)\n",
    "            fund.check_and_make_bankrupt(p_t)\n",
    "            fund.process_inflows(p_tm1, p_t)\n",
    "            wealth_fund_t = fund.get_wealth(p_t)\n",
    "            funds_wealth_t.append(wealth_fund_t)\n",
    "   \n",
    "        total_fund_wealth.append(funds_wealth_t)\n",
    "    \n",
    "        prices.append(p_t)\n",
    "    \n",
    "        printProgressBar(i + 1, iterations,\n",
    "                prefix='Progress:',\n",
    "                length=50)\n",
    "\n",
    "    prices = prices[1:]\n",
    "\n",
    "    return {'iterations':iterations,\n",
    "            'prices':prices,\n",
    "            'wealth':total_fund_wealth,\n",
    "            'num_funds': number_of_funds}"
   ]
  },
  {
   "cell_type": "code",
   "execution_count": null,
   "metadata": {
    "collapsed": true
   },
   "outputs": [],
   "source": [
    "def plot_prices(result):\n",
    "    plt.figure(figsize=(16,4))\n",
    "    plt.plot(result['prices'], 'b',\n",
    "             label='including funds')\n",
    "    plt.xlabel('Iterations')\n",
    "    plt.ylabel('Price')\n",
    "    plt.legend(loc='upper left')\n",
    "\n",
    "    plt.plot()\n",
    "    #plt.savefig(\"{}simulated_prices_{}_funds.png\".format(outpath, result['num_funds']))"
   ]
  },
  {
   "cell_type": "code",
   "execution_count": null,
   "metadata": {
    "collapsed": true
   },
   "outputs": [],
   "source": [
    "# Run the simulation\n",
    "result = simulate(iterations=10000)\n",
    "\n",
    "# Plot prices\n",
    "plot_prices(result)\n",
    "\n",
    "# Plot the wealth of all funds\n",
    "plt.plot(result['wealth'])\n",
    "#plt.savefig(\"{}simulated_wealth_{}_funds.png\".format(outpath, result['num_funds']))"
   ]
  }
 ],
 "metadata": {
  "kernelspec": {
   "display_name": "Python [conda root]",
   "language": "python",
   "name": "conda-root-py"
  },
  "language_info": {
   "codemirror_mode": {
    "name": "ipython",
    "version": 3
   },
   "file_extension": ".py",
   "mimetype": "text/x-python",
   "name": "python",
   "nbconvert_exporter": "python",
   "pygments_lexer": "ipython3",
   "version": "3.5.0rc4"
  }
 },
 "nbformat": 4,
 "nbformat_minor": 2
}
